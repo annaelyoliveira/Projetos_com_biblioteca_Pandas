{
  "nbformat": 4,
  "nbformat_minor": 0,
  "metadata": {
    "colab": {
      "provenance": [],
      "include_colab_link": true
    },
    "kernelspec": {
      "name": "python3",
      "display_name": "Python 3"
    },
    "language_info": {
      "name": "python"
    }
  },
  "cells": [
    {
      "cell_type": "markdown",
      "metadata": {
        "id": "view-in-github",
        "colab_type": "text"
      },
      "source": [
        "<a href=\"https://colab.research.google.com/github/annaelyoliveira/Projetos_com_biblioteca_Pandas/blob/main/Projeto_2.ipynb\" target=\"_parent\"><img src=\"https://colab.research.google.com/assets/colab-badge.svg\" alt=\"Open In Colab\"/></a>"
      ]
    },
    {
      "cell_type": "code",
      "execution_count": null,
      "metadata": {
        "colab": {
          "base_uri": "https://localhost:8080/"
        },
        "id": "_xNCtuSgOt53",
        "outputId": "426f807c-a710-428d-e761-65edd575fb00"
      },
      "outputs": [
        {
          "output_type": "stream",
          "name": "stdout",
          "text": [
            "Requirement already satisfied: Pandas in /usr/local/lib/python3.11/dist-packages (2.2.2)\n",
            "Requirement already satisfied: numpy>=1.23.2 in /usr/local/lib/python3.11/dist-packages (from Pandas) (1.26.4)\n",
            "Requirement already satisfied: python-dateutil>=2.8.2 in /usr/local/lib/python3.11/dist-packages (from Pandas) (2.8.2)\n",
            "Requirement already satisfied: pytz>=2020.1 in /usr/local/lib/python3.11/dist-packages (from Pandas) (2024.2)\n",
            "Requirement already satisfied: tzdata>=2022.7 in /usr/local/lib/python3.11/dist-packages (from Pandas) (2024.2)\n",
            "Requirement already satisfied: six>=1.5 in /usr/local/lib/python3.11/dist-packages (from python-dateutil>=2.8.2->Pandas) (1.17.0)\n"
          ]
        }
      ],
      "source": [
        "!pip install Pandas\n",
        "\n",
        "import pandas as pd"
      ]
    },
    {
      "cell_type": "code",
      "source": [
        "df = pd.read_csv('/content/Base_de_dados/registro_vendas.csv')\n",
        "\n",
        "print(df)"
      ],
      "metadata": {
        "colab": {
          "base_uri": "https://localhost:8080/"
        },
        "id": "hRbs2kOxPvOL",
        "outputId": "97959072-7d82-4ab6-a9d6-8b740cc05bbd"
      },
      "execution_count": null,
      "outputs": [
        {
          "output_type": "stream",
          "name": "stdout",
          "text": [
            "   Unnamed: 0   Produto   Preço  Estoque    Categoria\n",
            "0           0  Notebook  3000.0     10.0  Eletrônicos\n",
            "1           1       NaN  1500.0      5.0  Eletrônicos\n",
            "2           2    Tablet   800.0     15.0          NaN\n",
            "3           3  Notebook  3000.0      NaN  Eletrônicos\n",
            "4           4   Celular     NaN     12.0  Eletrônicos\n"
          ]
        }
      ]
    },
    {
      "cell_type": "markdown",
      "source": [
        "#Limpeza de Dados"
      ],
      "metadata": {
        "id": "XUb9O0j86vit"
      }
    },
    {
      "cell_type": "code",
      "source": [
        "# 1. Identificando quais colunas contêm valores nulos e quantos valores nulos existem em cada uma\n",
        "\n",
        "df.isnull().sum()"
      ],
      "metadata": {
        "colab": {
          "base_uri": "https://localhost:8080/",
          "height": 241
        },
        "id": "T43k97bfSKGm",
        "outputId": "e9abfdaa-fa7f-4f34-a77d-b8b60782ff9e"
      },
      "execution_count": null,
      "outputs": [
        {
          "output_type": "execute_result",
          "data": {
            "text/plain": [
              "Unnamed: 0    0\n",
              "Produto       1\n",
              "Preço         1\n",
              "Estoque       1\n",
              "Categoria     1\n",
              "dtype: int64"
            ],
            "text/html": [
              "<div>\n",
              "<style scoped>\n",
              "    .dataframe tbody tr th:only-of-type {\n",
              "        vertical-align: middle;\n",
              "    }\n",
              "\n",
              "    .dataframe tbody tr th {\n",
              "        vertical-align: top;\n",
              "    }\n",
              "\n",
              "    .dataframe thead th {\n",
              "        text-align: right;\n",
              "    }\n",
              "</style>\n",
              "<table border=\"1\" class=\"dataframe\">\n",
              "  <thead>\n",
              "    <tr style=\"text-align: right;\">\n",
              "      <th></th>\n",
              "      <th>0</th>\n",
              "    </tr>\n",
              "  </thead>\n",
              "  <tbody>\n",
              "    <tr>\n",
              "      <th>Unnamed: 0</th>\n",
              "      <td>0</td>\n",
              "    </tr>\n",
              "    <tr>\n",
              "      <th>Produto</th>\n",
              "      <td>1</td>\n",
              "    </tr>\n",
              "    <tr>\n",
              "      <th>Preço</th>\n",
              "      <td>1</td>\n",
              "    </tr>\n",
              "    <tr>\n",
              "      <th>Estoque</th>\n",
              "      <td>1</td>\n",
              "    </tr>\n",
              "    <tr>\n",
              "      <th>Categoria</th>\n",
              "      <td>1</td>\n",
              "    </tr>\n",
              "  </tbody>\n",
              "</table>\n",
              "</div><br><label><b>dtype:</b> int64</label>"
            ]
          },
          "metadata": {},
          "execution_count": 233
        }
      ]
    },
    {
      "cell_type": "code",
      "source": [
        "# 2. Substituindo os valores nulos na coluna Preço pela média dos valores não nulos\n",
        "\n",
        "media_preco = df['Preço'].mean()\n",
        "df = df.fillna({'Preço':media_preco}, inplace=False)\n",
        "print(df)\n"
      ],
      "metadata": {
        "colab": {
          "base_uri": "https://localhost:8080/"
        },
        "id": "J0uyfr8qScmo",
        "outputId": "c17199e3-30d1-42f5-b0d6-dc5fc55b67fa"
      },
      "execution_count": null,
      "outputs": [
        {
          "output_type": "stream",
          "name": "stdout",
          "text": [
            "   Unnamed: 0   Produto   Preço  Estoque    Categoria\n",
            "0           0  Notebook  3000.0     10.0  Eletrônicos\n",
            "1           1       NaN  1500.0      5.0  Eletrônicos\n",
            "2           2    Tablet   800.0     15.0          NaN\n",
            "3           3  Notebook  3000.0      NaN  Eletrônicos\n",
            "4           4   Celular  2075.0     12.0  Eletrônicos\n"
          ]
        }
      ]
    },
    {
      "cell_type": "code",
      "source": [
        "# 3. Substituindo os valores nulos da coluna Estoque(Quantidade) por 0\n",
        "\n",
        "df= df.fillna({'Estoque': 0}, inplace=False)\n",
        "\n",
        "# Trocando valores nulos da categoria Produto por \" - \"\n",
        "\n",
        "df = df.fillna({'Produto': ' - '}, inplace=False)\n",
        "print(df)"
      ],
      "metadata": {
        "colab": {
          "base_uri": "https://localhost:8080/"
        },
        "id": "Mg1TqXwxTl2y",
        "outputId": "07e69d34-d101-4614-a001-a4c17b1cdf60"
      },
      "execution_count": null,
      "outputs": [
        {
          "output_type": "stream",
          "name": "stdout",
          "text": [
            "   Unnamed: 0   Produto   Preço  Estoque    Categoria\n",
            "0           0  Notebook  3000.0     10.0  Eletrônicos\n",
            "1           1        -   1500.0      5.0  Eletrônicos\n",
            "2           2    Tablet   800.0     15.0          NaN\n",
            "3           3  Notebook  3000.0      0.0  Eletrônicos\n",
            "4           4   Celular  2075.0     12.0  Eletrônicos\n"
          ]
        }
      ]
    },
    {
      "cell_type": "code",
      "source": [
        "# 4. Removendo as linhas onde a coluna Categoria possui valores nulos\n",
        "\n",
        "df_sem_nulo_categoria = df.dropna(subset=['Categoria'], inplace=False)\n",
        "print(df_sem_nulo_categoria)"
      ],
      "metadata": {
        "colab": {
          "base_uri": "https://localhost:8080/"
        },
        "id": "xNMoosOyUY-0",
        "outputId": "b20bcd77-9e41-44f9-b180-39a09043f7d9"
      },
      "execution_count": null,
      "outputs": [
        {
          "output_type": "stream",
          "name": "stdout",
          "text": [
            "   Unnamed: 0   Produto   Preço  Estoque    Categoria\n",
            "0           0  Notebook  3000.0     10.0  Eletrônicos\n",
            "1           1        -   1500.0      5.0  Eletrônicos\n",
            "3           3  Notebook  3000.0      0.0  Eletrônicos\n",
            "4           4   Celular  2075.0     12.0  Eletrônicos\n"
          ]
        }
      ]
    },
    {
      "cell_type": "code",
      "source": [
        "# 5. Verificando se há dados duplicados\n",
        "duplicados = df.duplicated()\n",
        "print(duplicados)\n",
        "\n",
        "print()\n",
        "\n",
        "# Removendo dados duplicados do DF original\n",
        "df = df.drop_duplicates(inplace=False)\n",
        "print(df)\n",
        "\n",
        "# *OBS Não tem dados duplicados"
      ],
      "metadata": {
        "colab": {
          "base_uri": "https://localhost:8080/"
        },
        "id": "vYU_zKfQVNIE",
        "outputId": "305cf33b-fef2-4914-f193-7019bb99ac4a"
      },
      "execution_count": null,
      "outputs": [
        {
          "output_type": "stream",
          "name": "stdout",
          "text": [
            "0    False\n",
            "1    False\n",
            "2    False\n",
            "3    False\n",
            "4    False\n",
            "dtype: bool\n",
            "\n",
            "   Unnamed: 0   Produto   Preço  Estoque    Categoria\n",
            "0           0  Notebook  3000.0     10.0  Eletrônicos\n",
            "1           1        -   1500.0      5.0  Eletrônicos\n",
            "2           2    Tablet   800.0     15.0          NaN\n",
            "3           3  Notebook  3000.0      0.0  Eletrônicos\n",
            "4           4   Celular  2075.0     12.0  Eletrônicos\n"
          ]
        }
      ]
    },
    {
      "cell_type": "code",
      "source": [
        "# 6. Criando um novo DataFrame contendo apenas os produtos da categoria “Grãos”\n",
        "# OBS* não tem categoria Grãos ent ficou vazio o df\n",
        "\n",
        "df_graos = df.loc[df['Categoria'] == 'Grãos']\n",
        "\n",
        "print(df_graos)"
      ],
      "metadata": {
        "colab": {
          "base_uri": "https://localhost:8080/"
        },
        "id": "qEO4EzMSWpnA",
        "outputId": "a97906a3-a9c6-4b71-da9e-86ca4bcbc9b4"
      },
      "execution_count": null,
      "outputs": [
        {
          "output_type": "stream",
          "name": "stdout",
          "text": [
            "Empty DataFrame\n",
            "Columns: [Unnamed: 0, Produto, Preço, Estoque, Categoria]\n",
            "Index: []\n"
          ]
        }
      ]
    },
    {
      "cell_type": "code",
      "source": [
        "# 7. Filtrando os produtos com preço superior a 10 e quantidade maior que 30\n",
        "# *OBS no csv não tem quantidade e sim estoque, coloquei pra filtrar o estoque maior que 7 para que o df não ficasse vazio, caso fosse maior que 30 o df é vazio)\n",
        "\n",
        "df_filtrado = df[(df['Preço'] > 10) & (df['Estoque'] > 7)]\n",
        "\n",
        "print('Produtos com preço superior a 10 e Estoque maior que 7')\n",
        "print(df_filtrado)"
      ],
      "metadata": {
        "colab": {
          "base_uri": "https://localhost:8080/"
        },
        "id": "W1FcIUNF_gua",
        "outputId": "1fde283c-4ec5-47df-9d2e-7999c53432af"
      },
      "execution_count": null,
      "outputs": [
        {
          "output_type": "stream",
          "name": "stdout",
          "text": [
            "Produtos com preço superior a 10 e Estoque maior que 7\n",
            "   Unnamed: 0   Produto   Preço  Estoque    Categoria\n",
            "0           0  Notebook  3000.0     10.0  Eletrônicos\n",
            "2           2    Tablet   800.0     15.0          NaN\n",
            "4           4   Celular  2075.0     12.0  Eletrônicos\n"
          ]
        }
      ]
    },
    {
      "cell_type": "markdown",
      "source": [
        "#Manipulação de Estruturas"
      ],
      "metadata": {
        "id": "supjOqWkKwCl"
      }
    },
    {
      "cell_type": "code",
      "source": [
        "# 8. Adicionando uma coluna chamada “Receita”, que será o resultado de Preço multiplicado por Quantidade\n",
        "\n",
        "df['Receita'] = df['Preço'] * df['Estoque']\n",
        "\n",
        "print(df)"
      ],
      "metadata": {
        "colab": {
          "base_uri": "https://localhost:8080/"
        },
        "id": "9n-sxQXdKyAv",
        "outputId": "d8dcdc1c-a9d6-4e35-c147-6314e0bf59e5"
      },
      "execution_count": null,
      "outputs": [
        {
          "output_type": "stream",
          "name": "stdout",
          "text": [
            "   Unnamed: 0   Produto   Preço  Estoque    Categoria  Receita\n",
            "0           0  Notebook  3000.0     10.0  Eletrônicos  30000.0\n",
            "1           1        -   1500.0      5.0  Eletrônicos   7500.0\n",
            "2           2    Tablet   800.0     15.0          NaN  12000.0\n",
            "3           3  Notebook  3000.0      0.0  Eletrônicos      0.0\n",
            "4           4   Celular  2075.0     12.0  Eletrônicos  24900.0\n"
          ]
        }
      ]
    },
    {
      "cell_type": "code",
      "source": [
        "# 9. Criando uma nova coluna chamada “Margem de Lucro (%)”, com um valor fixo de 20% aplicado ao preço\n",
        "\n",
        "def desconto_percentual(preco):\n",
        "  desconto_fixo = 20\n",
        "  return (desconto_fixo / preco) * 100\n",
        "\n",
        "df['Margem de Lucro (%)'] = df['Preço'].apply(desconto_percentual)\n",
        "\n",
        "# Arredondando os valores da coluna para 3 casas decimais\n",
        "df['Margem de Lucro (%)'] = df['Margem de Lucro (%)'].round(3)\n",
        "\n",
        "print(df)"
      ],
      "metadata": {
        "colab": {
          "base_uri": "https://localhost:8080/"
        },
        "id": "fda64h88jUJb",
        "outputId": "bb171f4c-6488-48ab-e32e-7c7bcb13fd67"
      },
      "execution_count": null,
      "outputs": [
        {
          "output_type": "stream",
          "name": "stdout",
          "text": [
            "   Unnamed: 0   Produto   Preço  Estoque    Categoria  Receita  \\\n",
            "0           0  Notebook  3000.0     10.0  Eletrônicos  30000.0   \n",
            "1           1        -   1500.0      5.0  Eletrônicos   7500.0   \n",
            "2           2    Tablet   800.0     15.0          NaN  12000.0   \n",
            "3           3  Notebook  3000.0      0.0  Eletrônicos      0.0   \n",
            "4           4   Celular  2075.0     12.0  Eletrônicos  24900.0   \n",
            "\n",
            "   Margem de Lucro (%)  \n",
            "0                0.667  \n",
            "1                1.333  \n",
            "2                2.500  \n",
            "3                0.667  \n",
            "4                0.964  \n"
          ]
        }
      ]
    },
    {
      "cell_type": "code",
      "source": [
        "# 10. Removendo a coluna Categoria do DataFrame\n",
        "\n",
        "df_sem_categoria = df.drop(columns=['Categoria'], inplace=False)\n",
        "\n",
        "print(df_sem_categoria)"
      ],
      "metadata": {
        "colab": {
          "base_uri": "https://localhost:8080/"
        },
        "id": "PK-8YjUCkeP1",
        "outputId": "4e0424c7-eef8-4382-a3cd-8828b6531d6d"
      },
      "execution_count": null,
      "outputs": [
        {
          "output_type": "stream",
          "name": "stdout",
          "text": [
            "   Unnamed: 0   Produto   Preço  Estoque  Receita  Margem de Lucro (%)\n",
            "0           0  Notebook  3000.0     10.0  30000.0                0.667\n",
            "1           1        -   1500.0      5.0   7500.0                1.333\n",
            "2           2    Tablet   800.0     15.0  12000.0                2.500\n",
            "3           3  Notebook  3000.0      0.0      0.0                0.667\n",
            "4           4   Celular  2075.0     12.0  24900.0                0.964\n"
          ]
        }
      ]
    },
    {
      "cell_type": "code",
      "source": [
        "# 11. Reorganizando as colunas do DataFrame para a seguinte ordem: Produto, Preço, Margem de Lucro (%), Quantidade, Receita\n",
        "\n",
        "df = df[['Produto', 'Preço', 'Categoria', 'Margem de Lucro (%)', 'Estoque', 'Receita',]]\n",
        "\n",
        "print(df)"
      ],
      "metadata": {
        "colab": {
          "base_uri": "https://localhost:8080/"
        },
        "id": "8NaboddKlV1q",
        "outputId": "58e38ba1-193e-450f-facc-e1504cb1239a"
      },
      "execution_count": null,
      "outputs": [
        {
          "output_type": "stream",
          "name": "stdout",
          "text": [
            "    Produto   Preço    Categoria  Margem de Lucro (%)  Estoque  Receita\n",
            "0  Notebook  3000.0  Eletrônicos                0.667     10.0  30000.0\n",
            "1        -   1500.0  Eletrônicos                1.333      5.0   7500.0\n",
            "2    Tablet   800.0          NaN                2.500     15.0  12000.0\n",
            "3  Notebook  3000.0  Eletrônicos                0.667      0.0      0.0\n",
            "4   Celular  2075.0  Eletrônicos                0.964     12.0  24900.0\n"
          ]
        }
      ]
    },
    {
      "cell_type": "code",
      "source": [
        "# 12. Renomeando as colunas\n",
        "df_renomeado = df.rename(columns={ 'Produto': 'Nome do Produto',\n",
        "                        'Preço': 'Preço Unitário',\n",
        "                        'Estoque': 'Quantidade Vendida' })\n",
        "print(df_renomeado)"
      ],
      "metadata": {
        "colab": {
          "base_uri": "https://localhost:8080/"
        },
        "id": "iFLP11damEiL",
        "outputId": "87e1463a-58f9-4072-bd49-5dc45350bb99"
      },
      "execution_count": null,
      "outputs": [
        {
          "output_type": "stream",
          "name": "stdout",
          "text": [
            "  Nome do Produto  Preço Unitário    Categoria  Margem de Lucro (%)  \\\n",
            "0        Notebook          3000.0  Eletrônicos                0.667   \n",
            "1              -           1500.0  Eletrônicos                1.333   \n",
            "2          Tablet           800.0          NaN                2.500   \n",
            "3        Notebook          3000.0  Eletrônicos                0.667   \n",
            "4         Celular          2075.0  Eletrônicos                0.964   \n",
            "\n",
            "   Quantidade Vendida  Receita  \n",
            "0                10.0  30000.0  \n",
            "1                 5.0   7500.0  \n",
            "2                15.0  12000.0  \n",
            "3                 0.0      0.0  \n",
            "4                12.0  24900.0  \n"
          ]
        }
      ]
    },
    {
      "cell_type": "code",
      "source": [
        "# 13. Renomeiando os índices para os dias da semana: [\"Segunda\", \"Terça\", \"Quarta\",\"Quinta\", \"Sexta\", \"Sábado\", \"Domingo\"]\n",
        "\n",
        "df = df.rename(index={0: 'Segunda', 1: 'Terça', 2: 'Quarta', 3: 'Quinta', 4: 'Sexta', 5: 'Sábado', 6: 'Domingo'})\n",
        "\n",
        "df"
      ],
      "metadata": {
        "colab": {
          "base_uri": "https://localhost:8080/",
          "height": 206
        },
        "id": "-rlgHIE3oE1s",
        "outputId": "6f568417-5600-4a76-d13e-047a7423da5c"
      },
      "execution_count": null,
      "outputs": [
        {
          "output_type": "execute_result",
          "data": {
            "text/plain": [
              "          Produto   Preço    Categoria  Margem de Lucro (%)  Estoque  Receita\n",
              "Segunda  Notebook  3000.0  Eletrônicos                0.667     10.0  30000.0\n",
              "Terça          -   1500.0  Eletrônicos                1.333      5.0   7500.0\n",
              "Quarta     Tablet   800.0          NaN                2.500     15.0  12000.0\n",
              "Quinta   Notebook  3000.0  Eletrônicos                0.667      0.0      0.0\n",
              "Sexta     Celular  2075.0  Eletrônicos                0.964     12.0  24900.0"
            ],
            "text/html": [
              "\n",
              "  <div id=\"df-dd4407be-5cf1-435c-aeb5-b76118897877\" class=\"colab-df-container\">\n",
              "    <div>\n",
              "<style scoped>\n",
              "    .dataframe tbody tr th:only-of-type {\n",
              "        vertical-align: middle;\n",
              "    }\n",
              "\n",
              "    .dataframe tbody tr th {\n",
              "        vertical-align: top;\n",
              "    }\n",
              "\n",
              "    .dataframe thead th {\n",
              "        text-align: right;\n",
              "    }\n",
              "</style>\n",
              "<table border=\"1\" class=\"dataframe\">\n",
              "  <thead>\n",
              "    <tr style=\"text-align: right;\">\n",
              "      <th></th>\n",
              "      <th>Produto</th>\n",
              "      <th>Preço</th>\n",
              "      <th>Categoria</th>\n",
              "      <th>Margem de Lucro (%)</th>\n",
              "      <th>Estoque</th>\n",
              "      <th>Receita</th>\n",
              "    </tr>\n",
              "  </thead>\n",
              "  <tbody>\n",
              "    <tr>\n",
              "      <th>Segunda</th>\n",
              "      <td>Notebook</td>\n",
              "      <td>3000.0</td>\n",
              "      <td>Eletrônicos</td>\n",
              "      <td>0.667</td>\n",
              "      <td>10.0</td>\n",
              "      <td>30000.0</td>\n",
              "    </tr>\n",
              "    <tr>\n",
              "      <th>Terça</th>\n",
              "      <td>-</td>\n",
              "      <td>1500.0</td>\n",
              "      <td>Eletrônicos</td>\n",
              "      <td>1.333</td>\n",
              "      <td>5.0</td>\n",
              "      <td>7500.0</td>\n",
              "    </tr>\n",
              "    <tr>\n",
              "      <th>Quarta</th>\n",
              "      <td>Tablet</td>\n",
              "      <td>800.0</td>\n",
              "      <td>NaN</td>\n",
              "      <td>2.500</td>\n",
              "      <td>15.0</td>\n",
              "      <td>12000.0</td>\n",
              "    </tr>\n",
              "    <tr>\n",
              "      <th>Quinta</th>\n",
              "      <td>Notebook</td>\n",
              "      <td>3000.0</td>\n",
              "      <td>Eletrônicos</td>\n",
              "      <td>0.667</td>\n",
              "      <td>0.0</td>\n",
              "      <td>0.0</td>\n",
              "    </tr>\n",
              "    <tr>\n",
              "      <th>Sexta</th>\n",
              "      <td>Celular</td>\n",
              "      <td>2075.0</td>\n",
              "      <td>Eletrônicos</td>\n",
              "      <td>0.964</td>\n",
              "      <td>12.0</td>\n",
              "      <td>24900.0</td>\n",
              "    </tr>\n",
              "  </tbody>\n",
              "</table>\n",
              "</div>\n",
              "    <div class=\"colab-df-buttons\">\n",
              "\n",
              "  <div class=\"colab-df-container\">\n",
              "    <button class=\"colab-df-convert\" onclick=\"convertToInteractive('df-dd4407be-5cf1-435c-aeb5-b76118897877')\"\n",
              "            title=\"Convert this dataframe to an interactive table.\"\n",
              "            style=\"display:none;\">\n",
              "\n",
              "  <svg xmlns=\"http://www.w3.org/2000/svg\" height=\"24px\" viewBox=\"0 -960 960 960\">\n",
              "    <path d=\"M120-120v-720h720v720H120Zm60-500h600v-160H180v160Zm220 220h160v-160H400v160Zm0 220h160v-160H400v160ZM180-400h160v-160H180v160Zm440 0h160v-160H620v160ZM180-180h160v-160H180v160Zm440 0h160v-160H620v160Z\"/>\n",
              "  </svg>\n",
              "    </button>\n",
              "\n",
              "  <style>\n",
              "    .colab-df-container {\n",
              "      display:flex;\n",
              "      gap: 12px;\n",
              "    }\n",
              "\n",
              "    .colab-df-convert {\n",
              "      background-color: #E8F0FE;\n",
              "      border: none;\n",
              "      border-radius: 50%;\n",
              "      cursor: pointer;\n",
              "      display: none;\n",
              "      fill: #1967D2;\n",
              "      height: 32px;\n",
              "      padding: 0 0 0 0;\n",
              "      width: 32px;\n",
              "    }\n",
              "\n",
              "    .colab-df-convert:hover {\n",
              "      background-color: #E2EBFA;\n",
              "      box-shadow: 0px 1px 2px rgba(60, 64, 67, 0.3), 0px 1px 3px 1px rgba(60, 64, 67, 0.15);\n",
              "      fill: #174EA6;\n",
              "    }\n",
              "\n",
              "    .colab-df-buttons div {\n",
              "      margin-bottom: 4px;\n",
              "    }\n",
              "\n",
              "    [theme=dark] .colab-df-convert {\n",
              "      background-color: #3B4455;\n",
              "      fill: #D2E3FC;\n",
              "    }\n",
              "\n",
              "    [theme=dark] .colab-df-convert:hover {\n",
              "      background-color: #434B5C;\n",
              "      box-shadow: 0px 1px 3px 1px rgba(0, 0, 0, 0.15);\n",
              "      filter: drop-shadow(0px 1px 2px rgba(0, 0, 0, 0.3));\n",
              "      fill: #FFFFFF;\n",
              "    }\n",
              "  </style>\n",
              "\n",
              "    <script>\n",
              "      const buttonEl =\n",
              "        document.querySelector('#df-dd4407be-5cf1-435c-aeb5-b76118897877 button.colab-df-convert');\n",
              "      buttonEl.style.display =\n",
              "        google.colab.kernel.accessAllowed ? 'block' : 'none';\n",
              "\n",
              "      async function convertToInteractive(key) {\n",
              "        const element = document.querySelector('#df-dd4407be-5cf1-435c-aeb5-b76118897877');\n",
              "        const dataTable =\n",
              "          await google.colab.kernel.invokeFunction('convertToInteractive',\n",
              "                                                    [key], {});\n",
              "        if (!dataTable) return;\n",
              "\n",
              "        const docLinkHtml = 'Like what you see? Visit the ' +\n",
              "          '<a target=\"_blank\" href=https://colab.research.google.com/notebooks/data_table.ipynb>data table notebook</a>'\n",
              "          + ' to learn more about interactive tables.';\n",
              "        element.innerHTML = '';\n",
              "        dataTable['output_type'] = 'display_data';\n",
              "        await google.colab.output.renderOutput(dataTable, element);\n",
              "        const docLink = document.createElement('div');\n",
              "        docLink.innerHTML = docLinkHtml;\n",
              "        element.appendChild(docLink);\n",
              "      }\n",
              "    </script>\n",
              "  </div>\n",
              "\n",
              "\n",
              "<div id=\"df-b918651b-2cc6-4748-9da6-fb7e5439df0f\">\n",
              "  <button class=\"colab-df-quickchart\" onclick=\"quickchart('df-b918651b-2cc6-4748-9da6-fb7e5439df0f')\"\n",
              "            title=\"Suggest charts\"\n",
              "            style=\"display:none;\">\n",
              "\n",
              "<svg xmlns=\"http://www.w3.org/2000/svg\" height=\"24px\"viewBox=\"0 0 24 24\"\n",
              "     width=\"24px\">\n",
              "    <g>\n",
              "        <path d=\"M19 3H5c-1.1 0-2 .9-2 2v14c0 1.1.9 2 2 2h14c1.1 0 2-.9 2-2V5c0-1.1-.9-2-2-2zM9 17H7v-7h2v7zm4 0h-2V7h2v10zm4 0h-2v-4h2v4z\"/>\n",
              "    </g>\n",
              "</svg>\n",
              "  </button>\n",
              "\n",
              "<style>\n",
              "  .colab-df-quickchart {\n",
              "      --bg-color: #E8F0FE;\n",
              "      --fill-color: #1967D2;\n",
              "      --hover-bg-color: #E2EBFA;\n",
              "      --hover-fill-color: #174EA6;\n",
              "      --disabled-fill-color: #AAA;\n",
              "      --disabled-bg-color: #DDD;\n",
              "  }\n",
              "\n",
              "  [theme=dark] .colab-df-quickchart {\n",
              "      --bg-color: #3B4455;\n",
              "      --fill-color: #D2E3FC;\n",
              "      --hover-bg-color: #434B5C;\n",
              "      --hover-fill-color: #FFFFFF;\n",
              "      --disabled-bg-color: #3B4455;\n",
              "      --disabled-fill-color: #666;\n",
              "  }\n",
              "\n",
              "  .colab-df-quickchart {\n",
              "    background-color: var(--bg-color);\n",
              "    border: none;\n",
              "    border-radius: 50%;\n",
              "    cursor: pointer;\n",
              "    display: none;\n",
              "    fill: var(--fill-color);\n",
              "    height: 32px;\n",
              "    padding: 0;\n",
              "    width: 32px;\n",
              "  }\n",
              "\n",
              "  .colab-df-quickchart:hover {\n",
              "    background-color: var(--hover-bg-color);\n",
              "    box-shadow: 0 1px 2px rgba(60, 64, 67, 0.3), 0 1px 3px 1px rgba(60, 64, 67, 0.15);\n",
              "    fill: var(--button-hover-fill-color);\n",
              "  }\n",
              "\n",
              "  .colab-df-quickchart-complete:disabled,\n",
              "  .colab-df-quickchart-complete:disabled:hover {\n",
              "    background-color: var(--disabled-bg-color);\n",
              "    fill: var(--disabled-fill-color);\n",
              "    box-shadow: none;\n",
              "  }\n",
              "\n",
              "  .colab-df-spinner {\n",
              "    border: 2px solid var(--fill-color);\n",
              "    border-color: transparent;\n",
              "    border-bottom-color: var(--fill-color);\n",
              "    animation:\n",
              "      spin 1s steps(1) infinite;\n",
              "  }\n",
              "\n",
              "  @keyframes spin {\n",
              "    0% {\n",
              "      border-color: transparent;\n",
              "      border-bottom-color: var(--fill-color);\n",
              "      border-left-color: var(--fill-color);\n",
              "    }\n",
              "    20% {\n",
              "      border-color: transparent;\n",
              "      border-left-color: var(--fill-color);\n",
              "      border-top-color: var(--fill-color);\n",
              "    }\n",
              "    30% {\n",
              "      border-color: transparent;\n",
              "      border-left-color: var(--fill-color);\n",
              "      border-top-color: var(--fill-color);\n",
              "      border-right-color: var(--fill-color);\n",
              "    }\n",
              "    40% {\n",
              "      border-color: transparent;\n",
              "      border-right-color: var(--fill-color);\n",
              "      border-top-color: var(--fill-color);\n",
              "    }\n",
              "    60% {\n",
              "      border-color: transparent;\n",
              "      border-right-color: var(--fill-color);\n",
              "    }\n",
              "    80% {\n",
              "      border-color: transparent;\n",
              "      border-right-color: var(--fill-color);\n",
              "      border-bottom-color: var(--fill-color);\n",
              "    }\n",
              "    90% {\n",
              "      border-color: transparent;\n",
              "      border-bottom-color: var(--fill-color);\n",
              "    }\n",
              "  }\n",
              "</style>\n",
              "\n",
              "  <script>\n",
              "    async function quickchart(key) {\n",
              "      const quickchartButtonEl =\n",
              "        document.querySelector('#' + key + ' button');\n",
              "      quickchartButtonEl.disabled = true;  // To prevent multiple clicks.\n",
              "      quickchartButtonEl.classList.add('colab-df-spinner');\n",
              "      try {\n",
              "        const charts = await google.colab.kernel.invokeFunction(\n",
              "            'suggestCharts', [key], {});\n",
              "      } catch (error) {\n",
              "        console.error('Error during call to suggestCharts:', error);\n",
              "      }\n",
              "      quickchartButtonEl.classList.remove('colab-df-spinner');\n",
              "      quickchartButtonEl.classList.add('colab-df-quickchart-complete');\n",
              "    }\n",
              "    (() => {\n",
              "      let quickchartButtonEl =\n",
              "        document.querySelector('#df-b918651b-2cc6-4748-9da6-fb7e5439df0f button');\n",
              "      quickchartButtonEl.style.display =\n",
              "        google.colab.kernel.accessAllowed ? 'block' : 'none';\n",
              "    })();\n",
              "  </script>\n",
              "</div>\n",
              "\n",
              "  <div id=\"id_180b3486-98a0-403e-8711-dfe2b81ee034\">\n",
              "    <style>\n",
              "      .colab-df-generate {\n",
              "        background-color: #E8F0FE;\n",
              "        border: none;\n",
              "        border-radius: 50%;\n",
              "        cursor: pointer;\n",
              "        display: none;\n",
              "        fill: #1967D2;\n",
              "        height: 32px;\n",
              "        padding: 0 0 0 0;\n",
              "        width: 32px;\n",
              "      }\n",
              "\n",
              "      .colab-df-generate:hover {\n",
              "        background-color: #E2EBFA;\n",
              "        box-shadow: 0px 1px 2px rgba(60, 64, 67, 0.3), 0px 1px 3px 1px rgba(60, 64, 67, 0.15);\n",
              "        fill: #174EA6;\n",
              "      }\n",
              "\n",
              "      [theme=dark] .colab-df-generate {\n",
              "        background-color: #3B4455;\n",
              "        fill: #D2E3FC;\n",
              "      }\n",
              "\n",
              "      [theme=dark] .colab-df-generate:hover {\n",
              "        background-color: #434B5C;\n",
              "        box-shadow: 0px 1px 3px 1px rgba(0, 0, 0, 0.15);\n",
              "        filter: drop-shadow(0px 1px 2px rgba(0, 0, 0, 0.3));\n",
              "        fill: #FFFFFF;\n",
              "      }\n",
              "    </style>\n",
              "    <button class=\"colab-df-generate\" onclick=\"generateWithVariable('df')\"\n",
              "            title=\"Generate code using this dataframe.\"\n",
              "            style=\"display:none;\">\n",
              "\n",
              "  <svg xmlns=\"http://www.w3.org/2000/svg\" height=\"24px\"viewBox=\"0 0 24 24\"\n",
              "       width=\"24px\">\n",
              "    <path d=\"M7,19H8.4L18.45,9,17,7.55,7,17.6ZM5,21V16.75L18.45,3.32a2,2,0,0,1,2.83,0l1.4,1.43a1.91,1.91,0,0,1,.58,1.4,1.91,1.91,0,0,1-.58,1.4L9.25,21ZM18.45,9,17,7.55Zm-12,3A5.31,5.31,0,0,0,4.9,8.1,5.31,5.31,0,0,0,1,6.5,5.31,5.31,0,0,0,4.9,4.9,5.31,5.31,0,0,0,6.5,1,5.31,5.31,0,0,0,8.1,4.9,5.31,5.31,0,0,0,12,6.5,5.46,5.46,0,0,0,6.5,12Z\"/>\n",
              "  </svg>\n",
              "    </button>\n",
              "    <script>\n",
              "      (() => {\n",
              "      const buttonEl =\n",
              "        document.querySelector('#id_180b3486-98a0-403e-8711-dfe2b81ee034 button.colab-df-generate');\n",
              "      buttonEl.style.display =\n",
              "        google.colab.kernel.accessAllowed ? 'block' : 'none';\n",
              "\n",
              "      buttonEl.onclick = () => {\n",
              "        google.colab.notebook.generateWithVariable('df');\n",
              "      }\n",
              "      })();\n",
              "    </script>\n",
              "  </div>\n",
              "\n",
              "    </div>\n",
              "  </div>\n"
            ],
            "application/vnd.google.colaboratory.intrinsic+json": {
              "type": "dataframe",
              "variable_name": "df",
              "summary": "{\n  \"name\": \"df\",\n  \"rows\": 5,\n  \"fields\": [\n    {\n      \"column\": \"Produto\",\n      \"properties\": {\n        \"dtype\": \"string\",\n        \"num_unique_values\": 4,\n        \"samples\": [\n          \" - \",\n          \"Celular\",\n          \"Notebook\"\n        ],\n        \"semantic_type\": \"\",\n        \"description\": \"\"\n      }\n    },\n    {\n      \"column\": \"Pre\\u00e7o\",\n      \"properties\": {\n        \"dtype\": \"number\",\n        \"std\": 957.5359001102778,\n        \"min\": 800.0,\n        \"max\": 3000.0,\n        \"num_unique_values\": 4,\n        \"samples\": [\n          1500.0,\n          2075.0,\n          3000.0\n        ],\n        \"semantic_type\": \"\",\n        \"description\": \"\"\n      }\n    },\n    {\n      \"column\": \"Categoria\",\n      \"properties\": {\n        \"dtype\": \"category\",\n        \"num_unique_values\": 1,\n        \"samples\": [\n          \"Eletr\\u00f4nicos\"\n        ],\n        \"semantic_type\": \"\",\n        \"description\": \"\"\n      }\n    },\n    {\n      \"column\": \"Margem de Lucro (%)\",\n      \"properties\": {\n        \"dtype\": \"number\",\n        \"std\": 0.7629106762917923,\n        \"min\": 0.667,\n        \"max\": 2.5,\n        \"num_unique_values\": 4,\n        \"samples\": [\n          1.333\n        ],\n        \"semantic_type\": \"\",\n        \"description\": \"\"\n      }\n    },\n    {\n      \"column\": \"Estoque\",\n      \"properties\": {\n        \"dtype\": \"number\",\n        \"std\": 5.9413803110051795,\n        \"min\": 0.0,\n        \"max\": 15.0,\n        \"num_unique_values\": 5,\n        \"samples\": [\n          5.0\n        ],\n        \"semantic_type\": \"\",\n        \"description\": \"\"\n      }\n    },\n    {\n      \"column\": \"Receita\",\n      \"properties\": {\n        \"dtype\": \"number\",\n        \"std\": 12381.316569735223,\n        \"min\": 0.0,\n        \"max\": 30000.0,\n        \"num_unique_values\": 5,\n        \"samples\": [\n          7500.0\n        ],\n        \"semantic_type\": \"\",\n        \"description\": \"\"\n      }\n    }\n  ]\n}"
            }
          },
          "metadata": {},
          "execution_count": 245
        }
      ]
    },
    {
      "cell_type": "markdown",
      "source": [
        "#Ordenação e Filtros"
      ],
      "metadata": {
        "id": "udba0WXfrA7Q"
      }
    },
    {
      "cell_type": "code",
      "source": [
        "# 14. Ordenando o DataFrame pelos valores de Preço em ordem crescente\n",
        "\n",
        "df = df.sort_values(by='Preço', ascending= True,inplace=False)\n",
        "print(df)"
      ],
      "metadata": {
        "colab": {
          "base_uri": "https://localhost:8080/"
        },
        "id": "csLL0qI7o2Rk",
        "outputId": "1d3f410b-524d-4f60-9b1d-ae9acc7ba3ff"
      },
      "execution_count": null,
      "outputs": [
        {
          "output_type": "stream",
          "name": "stdout",
          "text": [
            "          Produto   Preço    Categoria  Margem de Lucro (%)  Estoque  Receita\n",
            "Quarta     Tablet   800.0          NaN                2.500     15.0  12000.0\n",
            "Terça          -   1500.0  Eletrônicos                1.333      5.0   7500.0\n",
            "Sexta     Celular  2075.0  Eletrônicos                0.964     12.0  24900.0\n",
            "Segunda  Notebook  3000.0  Eletrônicos                0.667     10.0  30000.0\n",
            "Quinta   Notebook  3000.0  Eletrônicos                0.667      0.0      0.0\n"
          ]
        }
      ]
    },
    {
      "cell_type": "code",
      "source": [
        "# 15. Ordenando os dados primeiro por Categoria (ascendente) e em seguida, por quantidade (estoque) (descendente)\n",
        "df= df.sort_values(by=['Categoria','Estoque'], ascending= [True, False])\n",
        "\n",
        "df"
      ],
      "metadata": {
        "colab": {
          "base_uri": "https://localhost:8080/",
          "height": 206
        },
        "id": "8ycEM7RstdKv",
        "outputId": "80455ce6-59f4-4fda-e908-f916d17ba95b"
      },
      "execution_count": null,
      "outputs": [
        {
          "output_type": "execute_result",
          "data": {
            "text/plain": [
              "          Produto   Preço    Categoria  Margem de Lucro (%)  Estoque  Receita\n",
              "Sexta     Celular  2075.0  Eletrônicos                0.964     12.0  24900.0\n",
              "Segunda  Notebook  3000.0  Eletrônicos                0.667     10.0  30000.0\n",
              "Terça          -   1500.0  Eletrônicos                1.333      5.0   7500.0\n",
              "Quinta   Notebook  3000.0  Eletrônicos                0.667      0.0      0.0\n",
              "Quarta     Tablet   800.0          NaN                2.500     15.0  12000.0"
            ],
            "text/html": [
              "\n",
              "  <div id=\"df-40a4c8d8-831c-420b-99b1-a167187a6b62\" class=\"colab-df-container\">\n",
              "    <div>\n",
              "<style scoped>\n",
              "    .dataframe tbody tr th:only-of-type {\n",
              "        vertical-align: middle;\n",
              "    }\n",
              "\n",
              "    .dataframe tbody tr th {\n",
              "        vertical-align: top;\n",
              "    }\n",
              "\n",
              "    .dataframe thead th {\n",
              "        text-align: right;\n",
              "    }\n",
              "</style>\n",
              "<table border=\"1\" class=\"dataframe\">\n",
              "  <thead>\n",
              "    <tr style=\"text-align: right;\">\n",
              "      <th></th>\n",
              "      <th>Produto</th>\n",
              "      <th>Preço</th>\n",
              "      <th>Categoria</th>\n",
              "      <th>Margem de Lucro (%)</th>\n",
              "      <th>Estoque</th>\n",
              "      <th>Receita</th>\n",
              "    </tr>\n",
              "  </thead>\n",
              "  <tbody>\n",
              "    <tr>\n",
              "      <th>Sexta</th>\n",
              "      <td>Celular</td>\n",
              "      <td>2075.0</td>\n",
              "      <td>Eletrônicos</td>\n",
              "      <td>0.964</td>\n",
              "      <td>12.0</td>\n",
              "      <td>24900.0</td>\n",
              "    </tr>\n",
              "    <tr>\n",
              "      <th>Segunda</th>\n",
              "      <td>Notebook</td>\n",
              "      <td>3000.0</td>\n",
              "      <td>Eletrônicos</td>\n",
              "      <td>0.667</td>\n",
              "      <td>10.0</td>\n",
              "      <td>30000.0</td>\n",
              "    </tr>\n",
              "    <tr>\n",
              "      <th>Terça</th>\n",
              "      <td>-</td>\n",
              "      <td>1500.0</td>\n",
              "      <td>Eletrônicos</td>\n",
              "      <td>1.333</td>\n",
              "      <td>5.0</td>\n",
              "      <td>7500.0</td>\n",
              "    </tr>\n",
              "    <tr>\n",
              "      <th>Quinta</th>\n",
              "      <td>Notebook</td>\n",
              "      <td>3000.0</td>\n",
              "      <td>Eletrônicos</td>\n",
              "      <td>0.667</td>\n",
              "      <td>0.0</td>\n",
              "      <td>0.0</td>\n",
              "    </tr>\n",
              "    <tr>\n",
              "      <th>Quarta</th>\n",
              "      <td>Tablet</td>\n",
              "      <td>800.0</td>\n",
              "      <td>NaN</td>\n",
              "      <td>2.500</td>\n",
              "      <td>15.0</td>\n",
              "      <td>12000.0</td>\n",
              "    </tr>\n",
              "  </tbody>\n",
              "</table>\n",
              "</div>\n",
              "    <div class=\"colab-df-buttons\">\n",
              "\n",
              "  <div class=\"colab-df-container\">\n",
              "    <button class=\"colab-df-convert\" onclick=\"convertToInteractive('df-40a4c8d8-831c-420b-99b1-a167187a6b62')\"\n",
              "            title=\"Convert this dataframe to an interactive table.\"\n",
              "            style=\"display:none;\">\n",
              "\n",
              "  <svg xmlns=\"http://www.w3.org/2000/svg\" height=\"24px\" viewBox=\"0 -960 960 960\">\n",
              "    <path d=\"M120-120v-720h720v720H120Zm60-500h600v-160H180v160Zm220 220h160v-160H400v160Zm0 220h160v-160H400v160ZM180-400h160v-160H180v160Zm440 0h160v-160H620v160ZM180-180h160v-160H180v160Zm440 0h160v-160H620v160Z\"/>\n",
              "  </svg>\n",
              "    </button>\n",
              "\n",
              "  <style>\n",
              "    .colab-df-container {\n",
              "      display:flex;\n",
              "      gap: 12px;\n",
              "    }\n",
              "\n",
              "    .colab-df-convert {\n",
              "      background-color: #E8F0FE;\n",
              "      border: none;\n",
              "      border-radius: 50%;\n",
              "      cursor: pointer;\n",
              "      display: none;\n",
              "      fill: #1967D2;\n",
              "      height: 32px;\n",
              "      padding: 0 0 0 0;\n",
              "      width: 32px;\n",
              "    }\n",
              "\n",
              "    .colab-df-convert:hover {\n",
              "      background-color: #E2EBFA;\n",
              "      box-shadow: 0px 1px 2px rgba(60, 64, 67, 0.3), 0px 1px 3px 1px rgba(60, 64, 67, 0.15);\n",
              "      fill: #174EA6;\n",
              "    }\n",
              "\n",
              "    .colab-df-buttons div {\n",
              "      margin-bottom: 4px;\n",
              "    }\n",
              "\n",
              "    [theme=dark] .colab-df-convert {\n",
              "      background-color: #3B4455;\n",
              "      fill: #D2E3FC;\n",
              "    }\n",
              "\n",
              "    [theme=dark] .colab-df-convert:hover {\n",
              "      background-color: #434B5C;\n",
              "      box-shadow: 0px 1px 3px 1px rgba(0, 0, 0, 0.15);\n",
              "      filter: drop-shadow(0px 1px 2px rgba(0, 0, 0, 0.3));\n",
              "      fill: #FFFFFF;\n",
              "    }\n",
              "  </style>\n",
              "\n",
              "    <script>\n",
              "      const buttonEl =\n",
              "        document.querySelector('#df-40a4c8d8-831c-420b-99b1-a167187a6b62 button.colab-df-convert');\n",
              "      buttonEl.style.display =\n",
              "        google.colab.kernel.accessAllowed ? 'block' : 'none';\n",
              "\n",
              "      async function convertToInteractive(key) {\n",
              "        const element = document.querySelector('#df-40a4c8d8-831c-420b-99b1-a167187a6b62');\n",
              "        const dataTable =\n",
              "          await google.colab.kernel.invokeFunction('convertToInteractive',\n",
              "                                                    [key], {});\n",
              "        if (!dataTable) return;\n",
              "\n",
              "        const docLinkHtml = 'Like what you see? Visit the ' +\n",
              "          '<a target=\"_blank\" href=https://colab.research.google.com/notebooks/data_table.ipynb>data table notebook</a>'\n",
              "          + ' to learn more about interactive tables.';\n",
              "        element.innerHTML = '';\n",
              "        dataTable['output_type'] = 'display_data';\n",
              "        await google.colab.output.renderOutput(dataTable, element);\n",
              "        const docLink = document.createElement('div');\n",
              "        docLink.innerHTML = docLinkHtml;\n",
              "        element.appendChild(docLink);\n",
              "      }\n",
              "    </script>\n",
              "  </div>\n",
              "\n",
              "\n",
              "<div id=\"df-53758213-ea2b-4543-ad50-50eeda74833d\">\n",
              "  <button class=\"colab-df-quickchart\" onclick=\"quickchart('df-53758213-ea2b-4543-ad50-50eeda74833d')\"\n",
              "            title=\"Suggest charts\"\n",
              "            style=\"display:none;\">\n",
              "\n",
              "<svg xmlns=\"http://www.w3.org/2000/svg\" height=\"24px\"viewBox=\"0 0 24 24\"\n",
              "     width=\"24px\">\n",
              "    <g>\n",
              "        <path d=\"M19 3H5c-1.1 0-2 .9-2 2v14c0 1.1.9 2 2 2h14c1.1 0 2-.9 2-2V5c0-1.1-.9-2-2-2zM9 17H7v-7h2v7zm4 0h-2V7h2v10zm4 0h-2v-4h2v4z\"/>\n",
              "    </g>\n",
              "</svg>\n",
              "  </button>\n",
              "\n",
              "<style>\n",
              "  .colab-df-quickchart {\n",
              "      --bg-color: #E8F0FE;\n",
              "      --fill-color: #1967D2;\n",
              "      --hover-bg-color: #E2EBFA;\n",
              "      --hover-fill-color: #174EA6;\n",
              "      --disabled-fill-color: #AAA;\n",
              "      --disabled-bg-color: #DDD;\n",
              "  }\n",
              "\n",
              "  [theme=dark] .colab-df-quickchart {\n",
              "      --bg-color: #3B4455;\n",
              "      --fill-color: #D2E3FC;\n",
              "      --hover-bg-color: #434B5C;\n",
              "      --hover-fill-color: #FFFFFF;\n",
              "      --disabled-bg-color: #3B4455;\n",
              "      --disabled-fill-color: #666;\n",
              "  }\n",
              "\n",
              "  .colab-df-quickchart {\n",
              "    background-color: var(--bg-color);\n",
              "    border: none;\n",
              "    border-radius: 50%;\n",
              "    cursor: pointer;\n",
              "    display: none;\n",
              "    fill: var(--fill-color);\n",
              "    height: 32px;\n",
              "    padding: 0;\n",
              "    width: 32px;\n",
              "  }\n",
              "\n",
              "  .colab-df-quickchart:hover {\n",
              "    background-color: var(--hover-bg-color);\n",
              "    box-shadow: 0 1px 2px rgba(60, 64, 67, 0.3), 0 1px 3px 1px rgba(60, 64, 67, 0.15);\n",
              "    fill: var(--button-hover-fill-color);\n",
              "  }\n",
              "\n",
              "  .colab-df-quickchart-complete:disabled,\n",
              "  .colab-df-quickchart-complete:disabled:hover {\n",
              "    background-color: var(--disabled-bg-color);\n",
              "    fill: var(--disabled-fill-color);\n",
              "    box-shadow: none;\n",
              "  }\n",
              "\n",
              "  .colab-df-spinner {\n",
              "    border: 2px solid var(--fill-color);\n",
              "    border-color: transparent;\n",
              "    border-bottom-color: var(--fill-color);\n",
              "    animation:\n",
              "      spin 1s steps(1) infinite;\n",
              "  }\n",
              "\n",
              "  @keyframes spin {\n",
              "    0% {\n",
              "      border-color: transparent;\n",
              "      border-bottom-color: var(--fill-color);\n",
              "      border-left-color: var(--fill-color);\n",
              "    }\n",
              "    20% {\n",
              "      border-color: transparent;\n",
              "      border-left-color: var(--fill-color);\n",
              "      border-top-color: var(--fill-color);\n",
              "    }\n",
              "    30% {\n",
              "      border-color: transparent;\n",
              "      border-left-color: var(--fill-color);\n",
              "      border-top-color: var(--fill-color);\n",
              "      border-right-color: var(--fill-color);\n",
              "    }\n",
              "    40% {\n",
              "      border-color: transparent;\n",
              "      border-right-color: var(--fill-color);\n",
              "      border-top-color: var(--fill-color);\n",
              "    }\n",
              "    60% {\n",
              "      border-color: transparent;\n",
              "      border-right-color: var(--fill-color);\n",
              "    }\n",
              "    80% {\n",
              "      border-color: transparent;\n",
              "      border-right-color: var(--fill-color);\n",
              "      border-bottom-color: var(--fill-color);\n",
              "    }\n",
              "    90% {\n",
              "      border-color: transparent;\n",
              "      border-bottom-color: var(--fill-color);\n",
              "    }\n",
              "  }\n",
              "</style>\n",
              "\n",
              "  <script>\n",
              "    async function quickchart(key) {\n",
              "      const quickchartButtonEl =\n",
              "        document.querySelector('#' + key + ' button');\n",
              "      quickchartButtonEl.disabled = true;  // To prevent multiple clicks.\n",
              "      quickchartButtonEl.classList.add('colab-df-spinner');\n",
              "      try {\n",
              "        const charts = await google.colab.kernel.invokeFunction(\n",
              "            'suggestCharts', [key], {});\n",
              "      } catch (error) {\n",
              "        console.error('Error during call to suggestCharts:', error);\n",
              "      }\n",
              "      quickchartButtonEl.classList.remove('colab-df-spinner');\n",
              "      quickchartButtonEl.classList.add('colab-df-quickchart-complete');\n",
              "    }\n",
              "    (() => {\n",
              "      let quickchartButtonEl =\n",
              "        document.querySelector('#df-53758213-ea2b-4543-ad50-50eeda74833d button');\n",
              "      quickchartButtonEl.style.display =\n",
              "        google.colab.kernel.accessAllowed ? 'block' : 'none';\n",
              "    })();\n",
              "  </script>\n",
              "</div>\n",
              "\n",
              "  <div id=\"id_3bfd51e4-e8c1-46a4-b652-5f7d8dc3665c\">\n",
              "    <style>\n",
              "      .colab-df-generate {\n",
              "        background-color: #E8F0FE;\n",
              "        border: none;\n",
              "        border-radius: 50%;\n",
              "        cursor: pointer;\n",
              "        display: none;\n",
              "        fill: #1967D2;\n",
              "        height: 32px;\n",
              "        padding: 0 0 0 0;\n",
              "        width: 32px;\n",
              "      }\n",
              "\n",
              "      .colab-df-generate:hover {\n",
              "        background-color: #E2EBFA;\n",
              "        box-shadow: 0px 1px 2px rgba(60, 64, 67, 0.3), 0px 1px 3px 1px rgba(60, 64, 67, 0.15);\n",
              "        fill: #174EA6;\n",
              "      }\n",
              "\n",
              "      [theme=dark] .colab-df-generate {\n",
              "        background-color: #3B4455;\n",
              "        fill: #D2E3FC;\n",
              "      }\n",
              "\n",
              "      [theme=dark] .colab-df-generate:hover {\n",
              "        background-color: #434B5C;\n",
              "        box-shadow: 0px 1px 3px 1px rgba(0, 0, 0, 0.15);\n",
              "        filter: drop-shadow(0px 1px 2px rgba(0, 0, 0, 0.3));\n",
              "        fill: #FFFFFF;\n",
              "      }\n",
              "    </style>\n",
              "    <button class=\"colab-df-generate\" onclick=\"generateWithVariable('df')\"\n",
              "            title=\"Generate code using this dataframe.\"\n",
              "            style=\"display:none;\">\n",
              "\n",
              "  <svg xmlns=\"http://www.w3.org/2000/svg\" height=\"24px\"viewBox=\"0 0 24 24\"\n",
              "       width=\"24px\">\n",
              "    <path d=\"M7,19H8.4L18.45,9,17,7.55,7,17.6ZM5,21V16.75L18.45,3.32a2,2,0,0,1,2.83,0l1.4,1.43a1.91,1.91,0,0,1,.58,1.4,1.91,1.91,0,0,1-.58,1.4L9.25,21ZM18.45,9,17,7.55Zm-12,3A5.31,5.31,0,0,0,4.9,8.1,5.31,5.31,0,0,0,1,6.5,5.31,5.31,0,0,0,4.9,4.9,5.31,5.31,0,0,0,6.5,1,5.31,5.31,0,0,0,8.1,4.9,5.31,5.31,0,0,0,12,6.5,5.46,5.46,0,0,0,6.5,12Z\"/>\n",
              "  </svg>\n",
              "    </button>\n",
              "    <script>\n",
              "      (() => {\n",
              "      const buttonEl =\n",
              "        document.querySelector('#id_3bfd51e4-e8c1-46a4-b652-5f7d8dc3665c button.colab-df-generate');\n",
              "      buttonEl.style.display =\n",
              "        google.colab.kernel.accessAllowed ? 'block' : 'none';\n",
              "\n",
              "      buttonEl.onclick = () => {\n",
              "        google.colab.notebook.generateWithVariable('df');\n",
              "      }\n",
              "      })();\n",
              "    </script>\n",
              "  </div>\n",
              "\n",
              "    </div>\n",
              "  </div>\n"
            ],
            "application/vnd.google.colaboratory.intrinsic+json": {
              "type": "dataframe",
              "variable_name": "df",
              "summary": "{\n  \"name\": \"df\",\n  \"rows\": 5,\n  \"fields\": [\n    {\n      \"column\": \"Produto\",\n      \"properties\": {\n        \"dtype\": \"string\",\n        \"num_unique_values\": 4,\n        \"samples\": [\n          \"Notebook\",\n          \"Tablet\",\n          \"Celular\"\n        ],\n        \"semantic_type\": \"\",\n        \"description\": \"\"\n      }\n    },\n    {\n      \"column\": \"Pre\\u00e7o\",\n      \"properties\": {\n        \"dtype\": \"number\",\n        \"std\": 957.5359001102778,\n        \"min\": 800.0,\n        \"max\": 3000.0,\n        \"num_unique_values\": 4,\n        \"samples\": [\n          3000.0,\n          800.0,\n          2075.0\n        ],\n        \"semantic_type\": \"\",\n        \"description\": \"\"\n      }\n    },\n    {\n      \"column\": \"Categoria\",\n      \"properties\": {\n        \"dtype\": \"category\",\n        \"num_unique_values\": 1,\n        \"samples\": [\n          \"Eletr\\u00f4nicos\"\n        ],\n        \"semantic_type\": \"\",\n        \"description\": \"\"\n      }\n    },\n    {\n      \"column\": \"Margem de Lucro (%)\",\n      \"properties\": {\n        \"dtype\": \"number\",\n        \"std\": 0.7629106762917924,\n        \"min\": 0.667,\n        \"max\": 2.5,\n        \"num_unique_values\": 4,\n        \"samples\": [\n          0.667\n        ],\n        \"semantic_type\": \"\",\n        \"description\": \"\"\n      }\n    },\n    {\n      \"column\": \"Estoque\",\n      \"properties\": {\n        \"dtype\": \"number\",\n        \"std\": 5.941380311005179,\n        \"min\": 0.0,\n        \"max\": 15.0,\n        \"num_unique_values\": 5,\n        \"samples\": [\n          10.0\n        ],\n        \"semantic_type\": \"\",\n        \"description\": \"\"\n      }\n    },\n    {\n      \"column\": \"Receita\",\n      \"properties\": {\n        \"dtype\": \"number\",\n        \"std\": 12381.316569735223,\n        \"min\": 0.0,\n        \"max\": 30000.0,\n        \"num_unique_values\": 5,\n        \"samples\": [\n          30000.0\n        ],\n        \"semantic_type\": \"\",\n        \"description\": \"\"\n      }\n    }\n  ]\n}"
            }
          },
          "metadata": {},
          "execution_count": 248
        }
      ]
    },
    {
      "cell_type": "code",
      "source": [
        "# 16. Reorganizando os índices do DataFrame em ordem alfabética\n",
        "print(\"\\n------- Ordenado pela ordem alfabética -------\\n\")\n",
        "df.sort_index(ascending=True, inplace=True)\n",
        "\n",
        "print(df)\n",
        "\n",
        "# *OBS Ficou em ordem alfábetica Q, S, T\n",
        "\n",
        "# Reordenando pelos dias da semana\n",
        "dias_ordenados = ['Segunda', 'Terça', 'Quarta', 'Quinta', 'Sexta', 'Sábado', 'Domingo']\n",
        "\n",
        "df = df.reindex(dias_ordenados)\n",
        "\n",
        "print(\"\\n------- Ordenado pelos dias da semana -------\\n\")\n",
        "print(df)"
      ],
      "metadata": {
        "colab": {
          "base_uri": "https://localhost:8080/"
        },
        "id": "TgkETow4wbCQ",
        "outputId": "7f26a02f-9263-441f-ce26-d59e0101ee38"
      },
      "execution_count": null,
      "outputs": [
        {
          "output_type": "stream",
          "name": "stdout",
          "text": [
            "\n",
            "------- Ordenado pela ordem alfabética -------\n",
            "\n",
            "          Produto   Preço    Categoria  Margem de Lucro (%)  Estoque  Receita\n",
            "Quarta     Tablet   800.0          NaN                2.500     15.0  12000.0\n",
            "Quinta   Notebook  3000.0  Eletrônicos                0.667      0.0      0.0\n",
            "Segunda  Notebook  3000.0  Eletrônicos                0.667     10.0  30000.0\n",
            "Sexta     Celular  2075.0  Eletrônicos                0.964     12.0  24900.0\n",
            "Terça          -   1500.0  Eletrônicos                1.333      5.0   7500.0\n",
            "\n",
            "------- Ordenado pelos dias da semana -------\n",
            "\n",
            "          Produto   Preço    Categoria  Margem de Lucro (%)  Estoque  Receita\n",
            "Segunda  Notebook  3000.0  Eletrônicos                0.667     10.0  30000.0\n",
            "Terça          -   1500.0  Eletrônicos                1.333      5.0   7500.0\n",
            "Quarta     Tablet   800.0          NaN                2.500     15.0  12000.0\n",
            "Quinta   Notebook  3000.0  Eletrônicos                0.667      0.0      0.0\n",
            "Sexta     Celular  2075.0  Eletrônicos                0.964     12.0  24900.0\n",
            "Sábado        NaN     NaN          NaN                  NaN      NaN      NaN\n",
            "Domingo       NaN     NaN          NaN                  NaN      NaN      NaN\n"
          ]
        }
      ]
    },
    {
      "cell_type": "code",
      "source": [
        "# 17. Filtrando os produtos com preço entre 5 e 15\n",
        "# *OBS não tem produtos com preço entre 5 e 15 ent alterei para filtrar os produtos com preço entre 500 e 1.500\n",
        "\n",
        "df_between = df[df['Preço'].between(500, 1500)]\n",
        "print('\\n ------- Produtos com preço entre 500 e 1.500 ------\\n')\n",
        "print(df_between)\n",
        "\n",
        "df_between = df[df['Estoque'].between(5, 10)]\n",
        "print('\\n ------- Produtos com estoque entre 5 e 10 ------\\n')\n",
        "print(df_between)"
      ],
      "metadata": {
        "colab": {
          "base_uri": "https://localhost:8080/"
        },
        "id": "-NxP2h6j1V7V",
        "outputId": "14050004-965d-49ff-b0eb-6e97abfafea4"
      },
      "execution_count": null,
      "outputs": [
        {
          "output_type": "stream",
          "name": "stdout",
          "text": [
            "\n",
            " ------- Produtos com preço entre 500 e 1.500 ------\n",
            "\n",
            "       Produto   Preço    Categoria  Margem de Lucro (%)  Estoque  Receita\n",
            "Terça       -   1500.0  Eletrônicos                1.333      5.0   7500.0\n",
            "Quarta  Tablet   800.0          NaN                2.500     15.0  12000.0\n",
            "\n",
            " ------- Produtos com estoque entre 5 e 10 ------\n",
            "\n",
            "          Produto   Preço    Categoria  Margem de Lucro (%)  Estoque  Receita\n",
            "Segunda  Notebook  3000.0  Eletrônicos                0.667     10.0  30000.0\n",
            "Terça          -   1500.0  Eletrônicos                1.333      5.0   7500.0\n"
          ]
        }
      ]
    },
    {
      "cell_type": "code",
      "source": [
        "# Alterando os valores nulos da coluna Produto para poder selecionar os produto que contém a palavra 'Arroz'\n",
        "df = df.fillna({'Produto': ' - '}, inplace=False)\n",
        "\n",
        "# 18. Selecionando os produtos cujo nome contém a palavra \"Arroz\"\n",
        "\n",
        "df_texto = df[df['Produto'].str.contains('Arroz', case = False)]\n",
        "\n",
        "print(df_texto)\n",
        "\n",
        "# *OBS Não tem produtos que contém a palavra \"Arroz\" ent o df está vazio"
      ],
      "metadata": {
        "colab": {
          "base_uri": "https://localhost:8080/"
        },
        "id": "DPxsYSwm2ivs",
        "outputId": "ab65d2ec-bf7d-4d1c-f472-81c1c973913a"
      },
      "execution_count": null,
      "outputs": [
        {
          "output_type": "stream",
          "name": "stdout",
          "text": [
            "Empty DataFrame\n",
            "Columns: [Produto, Preço, Categoria, Margem de Lucro (%), Estoque, Receita]\n",
            "Index: []\n"
          ]
        }
      ]
    },
    {
      "cell_type": "code",
      "source": [
        "# 19. Filtrando linhas onde a Quantidade(estoque) seja maior que 20 e a Receita seja superior a 500 utilizando query\n",
        "# OBS* Não tem produtos onde a Quantidade(estoque) seja maior que 20 e a Receita seja superior a 500\n",
        "\n",
        "df_filtrado_query = df.query('Estoque >= 20 & Receita == 500')\n",
        "\n",
        "print(df_filtrado_query)"
      ],
      "metadata": {
        "colab": {
          "base_uri": "https://localhost:8080/"
        },
        "id": "SjrXNfsb5FxH",
        "outputId": "0245084e-3961-4b16-c5e4-b64bca506b3c"
      },
      "execution_count": null,
      "outputs": [
        {
          "output_type": "stream",
          "name": "stdout",
          "text": [
            "Empty DataFrame\n",
            "Columns: [Produto, Preço, Categoria, Margem de Lucro (%), Estoque, Receita]\n",
            "Index: []\n"
          ]
        }
      ]
    }
  ]
}